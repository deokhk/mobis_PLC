{
 "cells": [
  {
   "cell_type": "markdown",
   "metadata": {},
   "source": [
    "# Parse csv file into Json "
   ]
  },
  {
   "cell_type": "code",
   "execution_count": 1,
   "metadata": {},
   "outputs": [],
   "source": [
    "train_csv_path = \"/home/deokhk/project/모비스_POC/mobis_PLC1/data/csv_path_v8/train.csv\"\n",
    "dev_csv_path = \"/home/deokhk/project/모비스_POC/mobis_PLC1/data/csv_path_v8/valid.csv\"\n",
    "\n",
    "import pandas as pd\n",
    "train_df = pd.read_csv(train_csv_path)\n",
    "dev_df = pd.read_csv(dev_csv_path)\n"
   ]
  },
  {
   "cell_type": "code",
   "execution_count": 10,
   "metadata": {},
   "outputs": [],
   "source": [
    "import json \n",
    "\n",
    "datapoints = []\n",
    "\n",
    "for datapoint in train_df.values:\n",
    "    sft_string = datapoint[0]\n",
    "    splitted = sft_string.split(\"<|bot|>\")\n",
    "    input, output = splitted[0], splitted[1]\n",
    "    output = \"<|bot|>\" + output \n",
    "\n",
    "    new_datapoint = dict()\n",
    "    new_datapoint[\"prompt\"] = input\n",
    "    new_datapoint[\"completion\"] = output\n",
    "    datapoints.append(new_datapoint)\n",
    "\n",
    "\n",
    "save_path = \"/home/deokhk/project/모비스_POC/mobis_PLC1/data/csv_path_v8/train.json\"\n",
    "with open(save_path, \"w\") as f:\n",
    "    json.dump(datapoints, f, indent=4)\n",
    "\n",
    "\n",
    "datapoints = []\n",
    "for datapoint in dev_df.values:\n",
    "    sft_string = datapoint[0]\n",
    "    splitted = sft_string.split(\"<|bot|>\")\n",
    "    input, output = splitted[0], splitted[1]\n",
    "    output = \"<|bot|>\" + output \n",
    "\n",
    "    new_datapoint = dict()\n",
    "    new_datapoint[\"prompt\"] = input\n",
    "    new_datapoint[\"completion\"] = output\n",
    "    datapoints.append(new_datapoint)\n",
    "\n",
    "import json \n",
    "\n",
    "save_path = \"/home/deokhk/project/모비스_POC/mobis_PLC1/data/csv_path_v8/valid.json\"\n",
    "with open(save_path, \"w\") as f:\n",
    "    json.dump(datapoints, f, indent=4)\n"
   ]
  },
  {
   "cell_type": "code",
   "execution_count": null,
   "metadata": {},
   "outputs": [],
   "source": []
  }
 ],
 "metadata": {
  "kernelspec": {
   "display_name": "mobis",
   "language": "python",
   "name": "python3"
  },
  "language_info": {
   "codemirror_mode": {
    "name": "ipython",
    "version": 3
   },
   "file_extension": ".py",
   "mimetype": "text/x-python",
   "name": "python",
   "nbconvert_exporter": "python",
   "pygments_lexer": "ipython3",
   "version": "3.10.14"
  }
 },
 "nbformat": 4,
 "nbformat_minor": 2
}
